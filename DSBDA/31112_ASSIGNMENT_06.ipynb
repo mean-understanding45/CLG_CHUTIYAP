{
 "cells": [
  {
   "cell_type": "markdown",
   "metadata": {
    "id": "oFsnxOtYMfCX"
   },
   "source": [
    "\n",
    "### Data Analytics III\n",
    "\n",
    "1. Implement Simple Naïve Bayes classification algorithm using Python/R on iris.csv dataset.\n",
    "2. Compute Confusion matrix to find TP, FP, TN, FN, Accuracy, Error rate, Precision,\n",
    "Recall on the given dataset."
   ]
  },
  {
   "cell_type": "markdown",
   "metadata": {
    "id": "eagLSd3aMqZp"
   },
   "source": [
    "# Setup"
   ]
  },
  {
   "cell_type": "code",
   "execution_count": 1,
   "metadata": {
    "executionInfo": {
     "elapsed": 396,
     "status": "ok",
     "timestamp": 1644574669775,
     "user": {
      "displayName": "Ved Patwardhan",
      "photoUrl": "https://lh3.googleusercontent.com/a-/AOh14GgT_DD3u4DJQL2EyLyaQOO3yAlgxiR_lAAhtbAqKg=s64",
      "userId": "09053447696388235799"
     },
     "user_tz": -330
    },
    "id": "9sqvpDGxMaN0"
   },
   "outputs": [],
   "source": [
    "import numpy as np\n",
    "import pandas as pd\n",
    "import matplotlib.pyplot as plt\n",
    "import seaborn as sns\n",
    "from sklearn.linear_model import LinearRegression\n",
    "from sklearn.model_selection import train_test_split\n",
    "from sklearn.metrics import accuracy_score, confusion_matrix\n",
    "from sklearn.preprocessing import LabelEncoder\n",
    "from sklearn.naive_bayes import GaussianNB"
   ]
  },
  {
   "cell_type": "code",
   "execution_count": 2,
   "metadata": {
    "executionInfo": {
     "elapsed": 4,
     "status": "ok",
     "timestamp": 1644574193043,
     "user": {
      "displayName": "Ved Patwardhan",
      "photoUrl": "https://lh3.googleusercontent.com/a-/AOh14GgT_DD3u4DJQL2EyLyaQOO3yAlgxiR_lAAhtbAqKg=s64",
      "userId": "09053447696388235799"
     },
     "user_tz": -330
    },
    "id": "DlXk6jX7Mw9O"
   },
   "outputs": [],
   "source": [
    "np.random.seed(0)\n",
    "sns.set()"
   ]
  },
  {
   "cell_type": "code",
   "execution_count": 3,
   "metadata": {
    "colab": {
     "base_uri": "https://localhost:8080/"
    },
    "executionInfo": {
     "elapsed": 12,
     "status": "ok",
     "timestamp": 1644574193568,
     "user": {
      "displayName": "Ved Patwardhan",
      "photoUrl": "https://lh3.googleusercontent.com/a-/AOh14GgT_DD3u4DJQL2EyLyaQOO3yAlgxiR_lAAhtbAqKg=s64",
      "userId": "09053447696388235799"
     },
     "user_tz": -330
    },
    "id": "biOm2j8BP26B",
    "outputId": "cde40428-cb23-47eb-cdbe-2f60a6460c9e"
   },
   "outputs": [
    {
     "name": "stdout",
     "output_type": "stream",
     "text": [
      "--2022-04-12 14:47:15--  https://gist.githubusercontent.com/netj/8836201/raw/6f9306ad21398ea43cba4f7d537619d0e07d5ae3/iris.csv\n",
      "Resolving gist.githubusercontent.com (gist.githubusercontent.com)... 185.199.109.133, 185.199.110.133, 185.199.108.133, ...\n",
      "Connecting to gist.githubusercontent.com (gist.githubusercontent.com)|185.199.109.133|:443... connected.\n",
      "HTTP request sent, awaiting response... 200 OK\n",
      "Length: 3975 (3.9K) [text/plain]\n",
      "Saving to: ‘iris.csv.1’\n",
      "\n",
      "iris.csv.1          100%[===================>]   3.88K  --.-KB/s    in 0.001s  \n",
      "\n",
      "2022-04-12 14:47:15 (2.94 MB/s) - ‘iris.csv.1’ saved [3975/3975]\n",
      "\n"
     ]
    }
   ],
   "source": [
    "!wget https://gist.githubusercontent.com/netj/8836201/raw/6f9306ad21398ea43cba4f7d537619d0e07d5ae3/iris.csv"
   ]
  },
  {
   "cell_type": "markdown",
   "metadata": {
    "id": "uUaYph_6EKai"
   },
   "source": [
    "# Loading the dataset"
   ]
  },
  {
   "cell_type": "code",
   "execution_count": 4,
   "metadata": {
    "executionInfo": {
     "elapsed": 8,
     "status": "ok",
     "timestamp": 1644574195850,
     "user": {
      "displayName": "Ved Patwardhan",
      "photoUrl": "https://lh3.googleusercontent.com/a-/AOh14GgT_DD3u4DJQL2EyLyaQOO3yAlgxiR_lAAhtbAqKg=s64",
      "userId": "09053447696388235799"
     },
     "user_tz": -330
    },
    "id": "2BQ5_hs3EJ83"
   },
   "outputs": [],
   "source": [
    "df = pd.read_csv('./iris.csv')"
   ]
  },
  {
   "cell_type": "code",
   "execution_count": 5,
   "metadata": {
    "colab": {
     "base_uri": "https://localhost:8080/"
    },
    "executionInfo": {
     "elapsed": 4,
     "status": "ok",
     "timestamp": 1644574197161,
     "user": {
      "displayName": "Ved Patwardhan",
      "photoUrl": "https://lh3.googleusercontent.com/a-/AOh14GgT_DD3u4DJQL2EyLyaQOO3yAlgxiR_lAAhtbAqKg=s64",
      "userId": "09053447696388235799"
     },
     "user_tz": -330
    },
    "id": "WUCdM52AEQYa",
    "outputId": "a366128b-0459-4209-eaaf-af2f3cbd570b"
   },
   "outputs": [
    {
     "data": {
      "text/plain": [
       "(150, 5)"
      ]
     },
     "execution_count": 5,
     "metadata": {},
     "output_type": "execute_result"
    }
   ],
   "source": [
    "df.shape"
   ]
  },
  {
   "cell_type": "code",
   "execution_count": 6,
   "metadata": {
    "colab": {
     "base_uri": "https://localhost:8080/",
     "height": 206
    },
    "executionInfo": {
     "elapsed": 11,
     "status": "ok",
     "timestamp": 1644574197754,
     "user": {
      "displayName": "Ved Patwardhan",
      "photoUrl": "https://lh3.googleusercontent.com/a-/AOh14GgT_DD3u4DJQL2EyLyaQOO3yAlgxiR_lAAhtbAqKg=s64",
      "userId": "09053447696388235799"
     },
     "user_tz": -330
    },
    "id": "MsQR3-L2EQ4O",
    "outputId": "189656df-9ace-42f9-9da1-bbcb5d10dd2a"
   },
   "outputs": [
    {
     "data": {
      "text/html": [
       "<div>\n",
       "<style scoped>\n",
       "    .dataframe tbody tr th:only-of-type {\n",
       "        vertical-align: middle;\n",
       "    }\n",
       "\n",
       "    .dataframe tbody tr th {\n",
       "        vertical-align: top;\n",
       "    }\n",
       "\n",
       "    .dataframe thead th {\n",
       "        text-align: right;\n",
       "    }\n",
       "</style>\n",
       "<table border=\"1\" class=\"dataframe\">\n",
       "  <thead>\n",
       "    <tr style=\"text-align: right;\">\n",
       "      <th></th>\n",
       "      <th>sepal.length</th>\n",
       "      <th>sepal.width</th>\n",
       "      <th>petal.length</th>\n",
       "      <th>petal.width</th>\n",
       "      <th>variety</th>\n",
       "    </tr>\n",
       "  </thead>\n",
       "  <tbody>\n",
       "    <tr>\n",
       "      <th>0</th>\n",
       "      <td>5.1</td>\n",
       "      <td>3.5</td>\n",
       "      <td>1.4</td>\n",
       "      <td>0.2</td>\n",
       "      <td>Setosa</td>\n",
       "    </tr>\n",
       "    <tr>\n",
       "      <th>1</th>\n",
       "      <td>4.9</td>\n",
       "      <td>3.0</td>\n",
       "      <td>1.4</td>\n",
       "      <td>0.2</td>\n",
       "      <td>Setosa</td>\n",
       "    </tr>\n",
       "    <tr>\n",
       "      <th>2</th>\n",
       "      <td>4.7</td>\n",
       "      <td>3.2</td>\n",
       "      <td>1.3</td>\n",
       "      <td>0.2</td>\n",
       "      <td>Setosa</td>\n",
       "    </tr>\n",
       "    <tr>\n",
       "      <th>3</th>\n",
       "      <td>4.6</td>\n",
       "      <td>3.1</td>\n",
       "      <td>1.5</td>\n",
       "      <td>0.2</td>\n",
       "      <td>Setosa</td>\n",
       "    </tr>\n",
       "    <tr>\n",
       "      <th>4</th>\n",
       "      <td>5.0</td>\n",
       "      <td>3.6</td>\n",
       "      <td>1.4</td>\n",
       "      <td>0.2</td>\n",
       "      <td>Setosa</td>\n",
       "    </tr>\n",
       "  </tbody>\n",
       "</table>\n",
       "</div>"
      ],
      "text/plain": [
       "   sepal.length  sepal.width  petal.length  petal.width variety\n",
       "0           5.1          3.5           1.4          0.2  Setosa\n",
       "1           4.9          3.0           1.4          0.2  Setosa\n",
       "2           4.7          3.2           1.3          0.2  Setosa\n",
       "3           4.6          3.1           1.5          0.2  Setosa\n",
       "4           5.0          3.6           1.4          0.2  Setosa"
      ]
     },
     "execution_count": 6,
     "metadata": {},
     "output_type": "execute_result"
    }
   ],
   "source": [
    "df.head()"
   ]
  },
  {
   "cell_type": "code",
   "execution_count": 7,
   "metadata": {
    "colab": {
     "base_uri": "https://localhost:8080/",
     "height": 206
    },
    "executionInfo": {
     "elapsed": 10,
     "status": "ok",
     "timestamp": 1644574199574,
     "user": {
      "displayName": "Ved Patwardhan",
      "photoUrl": "https://lh3.googleusercontent.com/a-/AOh14GgT_DD3u4DJQL2EyLyaQOO3yAlgxiR_lAAhtbAqKg=s64",
      "userId": "09053447696388235799"
     },
     "user_tz": -330
    },
    "id": "x1MLZTNMHb8h",
    "outputId": "c0548613-556a-4f69-bb7c-4d909158ab7d"
   },
   "outputs": [
    {
     "data": {
      "text/html": [
       "<div>\n",
       "<style scoped>\n",
       "    .dataframe tbody tr th:only-of-type {\n",
       "        vertical-align: middle;\n",
       "    }\n",
       "\n",
       "    .dataframe tbody tr th {\n",
       "        vertical-align: top;\n",
       "    }\n",
       "\n",
       "    .dataframe thead th {\n",
       "        text-align: right;\n",
       "    }\n",
       "</style>\n",
       "<table border=\"1\" class=\"dataframe\">\n",
       "  <thead>\n",
       "    <tr style=\"text-align: right;\">\n",
       "      <th></th>\n",
       "      <th>sepal.length</th>\n",
       "      <th>sepal.width</th>\n",
       "      <th>petal.length</th>\n",
       "      <th>petal.width</th>\n",
       "      <th>variety</th>\n",
       "    </tr>\n",
       "  </thead>\n",
       "  <tbody>\n",
       "    <tr>\n",
       "      <th>0</th>\n",
       "      <td>5.1</td>\n",
       "      <td>3.5</td>\n",
       "      <td>1.4</td>\n",
       "      <td>0.2</td>\n",
       "      <td>Setosa</td>\n",
       "    </tr>\n",
       "    <tr>\n",
       "      <th>1</th>\n",
       "      <td>4.9</td>\n",
       "      <td>3.0</td>\n",
       "      <td>1.4</td>\n",
       "      <td>0.2</td>\n",
       "      <td>Setosa</td>\n",
       "    </tr>\n",
       "    <tr>\n",
       "      <th>2</th>\n",
       "      <td>4.7</td>\n",
       "      <td>3.2</td>\n",
       "      <td>1.3</td>\n",
       "      <td>0.2</td>\n",
       "      <td>Setosa</td>\n",
       "    </tr>\n",
       "    <tr>\n",
       "      <th>3</th>\n",
       "      <td>4.6</td>\n",
       "      <td>3.1</td>\n",
       "      <td>1.5</td>\n",
       "      <td>0.2</td>\n",
       "      <td>Setosa</td>\n",
       "    </tr>\n",
       "    <tr>\n",
       "      <th>4</th>\n",
       "      <td>5.0</td>\n",
       "      <td>3.6</td>\n",
       "      <td>1.4</td>\n",
       "      <td>0.2</td>\n",
       "      <td>Setosa</td>\n",
       "    </tr>\n",
       "  </tbody>\n",
       "</table>\n",
       "</div>"
      ],
      "text/plain": [
       "   sepal.length  sepal.width  petal.length  petal.width variety\n",
       "0           5.1          3.5           1.4          0.2  Setosa\n",
       "1           4.9          3.0           1.4          0.2  Setosa\n",
       "2           4.7          3.2           1.3          0.2  Setosa\n",
       "3           4.6          3.1           1.5          0.2  Setosa\n",
       "4           5.0          3.6           1.4          0.2  Setosa"
      ]
     },
     "execution_count": 7,
     "metadata": {},
     "output_type": "execute_result"
    }
   ],
   "source": [
    "df.head()"
   ]
  },
  {
   "cell_type": "code",
   "execution_count": 8,
   "metadata": {
    "colab": {
     "base_uri": "https://localhost:8080/"
    },
    "executionInfo": {
     "elapsed": 641,
     "status": "ok",
     "timestamp": 1644574223525,
     "user": {
      "displayName": "Ved Patwardhan",
      "photoUrl": "https://lh3.googleusercontent.com/a-/AOh14GgT_DD3u4DJQL2EyLyaQOO3yAlgxiR_lAAhtbAqKg=s64",
      "userId": "09053447696388235799"
     },
     "user_tz": -330
    },
    "id": "ncF8zlTcQw4X",
    "outputId": "4e2c7b1d-3374-41ed-e8f6-d64a9a28a046"
   },
   "outputs": [
    {
     "data": {
      "text/plain": [
       "array(['Setosa', 'Versicolor', 'Virginica'], dtype=object)"
      ]
     },
     "execution_count": 8,
     "metadata": {},
     "output_type": "execute_result"
    }
   ],
   "source": [
    "df['variety'].unique()"
   ]
  },
  {
   "cell_type": "code",
   "execution_count": 9,
   "metadata": {
    "colab": {
     "base_uri": "https://localhost:8080/"
    },
    "executionInfo": {
     "elapsed": 892,
     "status": "ok",
     "timestamp": 1644574238158,
     "user": {
      "displayName": "Ved Patwardhan",
      "photoUrl": "https://lh3.googleusercontent.com/a-/AOh14GgT_DD3u4DJQL2EyLyaQOO3yAlgxiR_lAAhtbAqKg=s64",
      "userId": "09053447696388235799"
     },
     "user_tz": -330
    },
    "id": "RrUMNyURQXN1",
    "outputId": "4b5924d9-a3a5-484b-8c69-88ba2386b9bd"
   },
   "outputs": [
    {
     "data": {
      "text/plain": [
       "LabelEncoder()"
      ]
     },
     "execution_count": 9,
     "metadata": {},
     "output_type": "execute_result"
    }
   ],
   "source": [
    "le = LabelEncoder()\n",
    "le.fit([\"Setosa\", \"Versicolor\", \"Virginica\"])"
   ]
  },
  {
   "cell_type": "code",
   "execution_count": 10,
   "metadata": {
    "executionInfo": {
     "elapsed": 386,
     "status": "ok",
     "timestamp": 1644574279822,
     "user": {
      "displayName": "Ved Patwardhan",
      "photoUrl": "https://lh3.googleusercontent.com/a-/AOh14GgT_DD3u4DJQL2EyLyaQOO3yAlgxiR_lAAhtbAqKg=s64",
      "userId": "09053447696388235799"
     },
     "user_tz": -330
    },
    "id": "Fy88qVP2Q14o"
   },
   "outputs": [],
   "source": [
    "variety = df['variety']\n",
    "variety = le.transform(variety)"
   ]
  },
  {
   "cell_type": "code",
   "execution_count": 11,
   "metadata": {
    "executionInfo": {
     "elapsed": 396,
     "status": "ok",
     "timestamp": 1644574322292,
     "user": {
      "displayName": "Ved Patwardhan",
      "photoUrl": "https://lh3.googleusercontent.com/a-/AOh14GgT_DD3u4DJQL2EyLyaQOO3yAlgxiR_lAAhtbAqKg=s64",
      "userId": "09053447696388235799"
     },
     "user_tz": -330
    },
    "id": "VtCwU8Z6RAL2"
   },
   "outputs": [],
   "source": [
    "df['variety'] = variety"
   ]
  },
  {
   "cell_type": "code",
   "execution_count": 12,
   "metadata": {
    "colab": {
     "base_uri": "https://localhost:8080/",
     "height": 423
    },
    "executionInfo": {
     "elapsed": 8,
     "status": "ok",
     "timestamp": 1644574334598,
     "user": {
      "displayName": "Ved Patwardhan",
      "photoUrl": "https://lh3.googleusercontent.com/a-/AOh14GgT_DD3u4DJQL2EyLyaQOO3yAlgxiR_lAAhtbAqKg=s64",
      "userId": "09053447696388235799"
     },
     "user_tz": -330
    },
    "id": "1MJNQfIhRKiQ",
    "outputId": "9b864b1d-7c9f-40c8-a2e4-164bd0f3eb98"
   },
   "outputs": [
    {
     "data": {
      "text/html": [
       "<div>\n",
       "<style scoped>\n",
       "    .dataframe tbody tr th:only-of-type {\n",
       "        vertical-align: middle;\n",
       "    }\n",
       "\n",
       "    .dataframe tbody tr th {\n",
       "        vertical-align: top;\n",
       "    }\n",
       "\n",
       "    .dataframe thead th {\n",
       "        text-align: right;\n",
       "    }\n",
       "</style>\n",
       "<table border=\"1\" class=\"dataframe\">\n",
       "  <thead>\n",
       "    <tr style=\"text-align: right;\">\n",
       "      <th></th>\n",
       "      <th>sepal.length</th>\n",
       "      <th>sepal.width</th>\n",
       "      <th>petal.length</th>\n",
       "      <th>petal.width</th>\n",
       "      <th>variety</th>\n",
       "    </tr>\n",
       "  </thead>\n",
       "  <tbody>\n",
       "    <tr>\n",
       "      <th>0</th>\n",
       "      <td>5.1</td>\n",
       "      <td>3.5</td>\n",
       "      <td>1.4</td>\n",
       "      <td>0.2</td>\n",
       "      <td>0</td>\n",
       "    </tr>\n",
       "    <tr>\n",
       "      <th>1</th>\n",
       "      <td>4.9</td>\n",
       "      <td>3.0</td>\n",
       "      <td>1.4</td>\n",
       "      <td>0.2</td>\n",
       "      <td>0</td>\n",
       "    </tr>\n",
       "    <tr>\n",
       "      <th>2</th>\n",
       "      <td>4.7</td>\n",
       "      <td>3.2</td>\n",
       "      <td>1.3</td>\n",
       "      <td>0.2</td>\n",
       "      <td>0</td>\n",
       "    </tr>\n",
       "    <tr>\n",
       "      <th>3</th>\n",
       "      <td>4.6</td>\n",
       "      <td>3.1</td>\n",
       "      <td>1.5</td>\n",
       "      <td>0.2</td>\n",
       "      <td>0</td>\n",
       "    </tr>\n",
       "    <tr>\n",
       "      <th>4</th>\n",
       "      <td>5.0</td>\n",
       "      <td>3.6</td>\n",
       "      <td>1.4</td>\n",
       "      <td>0.2</td>\n",
       "      <td>0</td>\n",
       "    </tr>\n",
       "    <tr>\n",
       "      <th>...</th>\n",
       "      <td>...</td>\n",
       "      <td>...</td>\n",
       "      <td>...</td>\n",
       "      <td>...</td>\n",
       "      <td>...</td>\n",
       "    </tr>\n",
       "    <tr>\n",
       "      <th>145</th>\n",
       "      <td>6.7</td>\n",
       "      <td>3.0</td>\n",
       "      <td>5.2</td>\n",
       "      <td>2.3</td>\n",
       "      <td>2</td>\n",
       "    </tr>\n",
       "    <tr>\n",
       "      <th>146</th>\n",
       "      <td>6.3</td>\n",
       "      <td>2.5</td>\n",
       "      <td>5.0</td>\n",
       "      <td>1.9</td>\n",
       "      <td>2</td>\n",
       "    </tr>\n",
       "    <tr>\n",
       "      <th>147</th>\n",
       "      <td>6.5</td>\n",
       "      <td>3.0</td>\n",
       "      <td>5.2</td>\n",
       "      <td>2.0</td>\n",
       "      <td>2</td>\n",
       "    </tr>\n",
       "    <tr>\n",
       "      <th>148</th>\n",
       "      <td>6.2</td>\n",
       "      <td>3.4</td>\n",
       "      <td>5.4</td>\n",
       "      <td>2.3</td>\n",
       "      <td>2</td>\n",
       "    </tr>\n",
       "    <tr>\n",
       "      <th>149</th>\n",
       "      <td>5.9</td>\n",
       "      <td>3.0</td>\n",
       "      <td>5.1</td>\n",
       "      <td>1.8</td>\n",
       "      <td>2</td>\n",
       "    </tr>\n",
       "  </tbody>\n",
       "</table>\n",
       "<p>150 rows × 5 columns</p>\n",
       "</div>"
      ],
      "text/plain": [
       "     sepal.length  sepal.width  petal.length  petal.width  variety\n",
       "0             5.1          3.5           1.4          0.2        0\n",
       "1             4.9          3.0           1.4          0.2        0\n",
       "2             4.7          3.2           1.3          0.2        0\n",
       "3             4.6          3.1           1.5          0.2        0\n",
       "4             5.0          3.6           1.4          0.2        0\n",
       "..            ...          ...           ...          ...      ...\n",
       "145           6.7          3.0           5.2          2.3        2\n",
       "146           6.3          2.5           5.0          1.9        2\n",
       "147           6.5          3.0           5.2          2.0        2\n",
       "148           6.2          3.4           5.4          2.3        2\n",
       "149           5.9          3.0           5.1          1.8        2\n",
       "\n",
       "[150 rows x 5 columns]"
      ]
     },
     "execution_count": 12,
     "metadata": {},
     "output_type": "execute_result"
    }
   ],
   "source": [
    "df"
   ]
  },
  {
   "cell_type": "markdown",
   "metadata": {
    "id": "iEfrHRleETfF"
   },
   "source": [
    "# Splitting into Train and Test data"
   ]
  },
  {
   "cell_type": "code",
   "execution_count": 13,
   "metadata": {
    "executionInfo": {
     "elapsed": 578,
     "status": "ok",
     "timestamp": 1644574358570,
     "user": {
      "displayName": "Ved Patwardhan",
      "photoUrl": "https://lh3.googleusercontent.com/a-/AOh14GgT_DD3u4DJQL2EyLyaQOO3yAlgxiR_lAAhtbAqKg=s64",
      "userId": "09053447696388235799"
     },
     "user_tz": -330
    },
    "id": "4OKgPfLWHkh7"
   },
   "outputs": [],
   "source": [
    "X, Y = df.drop('variety', axis='columns'), df['variety']"
   ]
  },
  {
   "cell_type": "code",
   "execution_count": 14,
   "metadata": {
    "colab": {
     "base_uri": "https://localhost:8080/",
     "height": 423
    },
    "executionInfo": {
     "elapsed": 9,
     "status": "ok",
     "timestamp": 1644574360029,
     "user": {
      "displayName": "Ved Patwardhan",
      "photoUrl": "https://lh3.googleusercontent.com/a-/AOh14GgT_DD3u4DJQL2EyLyaQOO3yAlgxiR_lAAhtbAqKg=s64",
      "userId": "09053447696388235799"
     },
     "user_tz": -330
    },
    "id": "9orH_dBZIJQH",
    "outputId": "b94baba3-b0e8-4c7f-d39b-47c0fc03e9ab"
   },
   "outputs": [
    {
     "data": {
      "text/html": [
       "<div>\n",
       "<style scoped>\n",
       "    .dataframe tbody tr th:only-of-type {\n",
       "        vertical-align: middle;\n",
       "    }\n",
       "\n",
       "    .dataframe tbody tr th {\n",
       "        vertical-align: top;\n",
       "    }\n",
       "\n",
       "    .dataframe thead th {\n",
       "        text-align: right;\n",
       "    }\n",
       "</style>\n",
       "<table border=\"1\" class=\"dataframe\">\n",
       "  <thead>\n",
       "    <tr style=\"text-align: right;\">\n",
       "      <th></th>\n",
       "      <th>sepal.length</th>\n",
       "      <th>sepal.width</th>\n",
       "      <th>petal.length</th>\n",
       "      <th>petal.width</th>\n",
       "    </tr>\n",
       "  </thead>\n",
       "  <tbody>\n",
       "    <tr>\n",
       "      <th>0</th>\n",
       "      <td>5.1</td>\n",
       "      <td>3.5</td>\n",
       "      <td>1.4</td>\n",
       "      <td>0.2</td>\n",
       "    </tr>\n",
       "    <tr>\n",
       "      <th>1</th>\n",
       "      <td>4.9</td>\n",
       "      <td>3.0</td>\n",
       "      <td>1.4</td>\n",
       "      <td>0.2</td>\n",
       "    </tr>\n",
       "    <tr>\n",
       "      <th>2</th>\n",
       "      <td>4.7</td>\n",
       "      <td>3.2</td>\n",
       "      <td>1.3</td>\n",
       "      <td>0.2</td>\n",
       "    </tr>\n",
       "    <tr>\n",
       "      <th>3</th>\n",
       "      <td>4.6</td>\n",
       "      <td>3.1</td>\n",
       "      <td>1.5</td>\n",
       "      <td>0.2</td>\n",
       "    </tr>\n",
       "    <tr>\n",
       "      <th>4</th>\n",
       "      <td>5.0</td>\n",
       "      <td>3.6</td>\n",
       "      <td>1.4</td>\n",
       "      <td>0.2</td>\n",
       "    </tr>\n",
       "    <tr>\n",
       "      <th>...</th>\n",
       "      <td>...</td>\n",
       "      <td>...</td>\n",
       "      <td>...</td>\n",
       "      <td>...</td>\n",
       "    </tr>\n",
       "    <tr>\n",
       "      <th>145</th>\n",
       "      <td>6.7</td>\n",
       "      <td>3.0</td>\n",
       "      <td>5.2</td>\n",
       "      <td>2.3</td>\n",
       "    </tr>\n",
       "    <tr>\n",
       "      <th>146</th>\n",
       "      <td>6.3</td>\n",
       "      <td>2.5</td>\n",
       "      <td>5.0</td>\n",
       "      <td>1.9</td>\n",
       "    </tr>\n",
       "    <tr>\n",
       "      <th>147</th>\n",
       "      <td>6.5</td>\n",
       "      <td>3.0</td>\n",
       "      <td>5.2</td>\n",
       "      <td>2.0</td>\n",
       "    </tr>\n",
       "    <tr>\n",
       "      <th>148</th>\n",
       "      <td>6.2</td>\n",
       "      <td>3.4</td>\n",
       "      <td>5.4</td>\n",
       "      <td>2.3</td>\n",
       "    </tr>\n",
       "    <tr>\n",
       "      <th>149</th>\n",
       "      <td>5.9</td>\n",
       "      <td>3.0</td>\n",
       "      <td>5.1</td>\n",
       "      <td>1.8</td>\n",
       "    </tr>\n",
       "  </tbody>\n",
       "</table>\n",
       "<p>150 rows × 4 columns</p>\n",
       "</div>"
      ],
      "text/plain": [
       "     sepal.length  sepal.width  petal.length  petal.width\n",
       "0             5.1          3.5           1.4          0.2\n",
       "1             4.9          3.0           1.4          0.2\n",
       "2             4.7          3.2           1.3          0.2\n",
       "3             4.6          3.1           1.5          0.2\n",
       "4             5.0          3.6           1.4          0.2\n",
       "..            ...          ...           ...          ...\n",
       "145           6.7          3.0           5.2          2.3\n",
       "146           6.3          2.5           5.0          1.9\n",
       "147           6.5          3.0           5.2          2.0\n",
       "148           6.2          3.4           5.4          2.3\n",
       "149           5.9          3.0           5.1          1.8\n",
       "\n",
       "[150 rows x 4 columns]"
      ]
     },
     "execution_count": 14,
     "metadata": {},
     "output_type": "execute_result"
    }
   ],
   "source": [
    "X"
   ]
  },
  {
   "cell_type": "code",
   "execution_count": 15,
   "metadata": {
    "colab": {
     "base_uri": "https://localhost:8080/"
    },
    "executionInfo": {
     "elapsed": 5,
     "status": "ok",
     "timestamp": 1644574360431,
     "user": {
      "displayName": "Ved Patwardhan",
      "photoUrl": "https://lh3.googleusercontent.com/a-/AOh14GgT_DD3u4DJQL2EyLyaQOO3yAlgxiR_lAAhtbAqKg=s64",
      "userId": "09053447696388235799"
     },
     "user_tz": -330
    },
    "id": "da1BzxV7IKEf",
    "outputId": "c0279aa8-1106-4e63-b7f3-f306db745aea"
   },
   "outputs": [
    {
     "data": {
      "text/plain": [
       "0      0\n",
       "1      0\n",
       "2      0\n",
       "3      0\n",
       "4      0\n",
       "      ..\n",
       "145    2\n",
       "146    2\n",
       "147    2\n",
       "148    2\n",
       "149    2\n",
       "Name: variety, Length: 150, dtype: int64"
      ]
     },
     "execution_count": 15,
     "metadata": {},
     "output_type": "execute_result"
    }
   ],
   "source": [
    "Y"
   ]
  },
  {
   "cell_type": "code",
   "execution_count": 16,
   "metadata": {
    "executionInfo": {
     "elapsed": 398,
     "status": "ok",
     "timestamp": 1644574372246,
     "user": {
      "displayName": "Ved Patwardhan",
      "photoUrl": "https://lh3.googleusercontent.com/a-/AOh14GgT_DD3u4DJQL2EyLyaQOO3yAlgxiR_lAAhtbAqKg=s64",
      "userId": "09053447696388235799"
     },
     "user_tz": -330
    },
    "id": "TmjLiPUNESwY"
   },
   "outputs": [],
   "source": [
    "X_train, X_val, Y_train, Y_val = train_test_split(X, Y, stratify=Y, random_state=0)"
   ]
  },
  {
   "cell_type": "code",
   "execution_count": 17,
   "metadata": {
    "colab": {
     "base_uri": "https://localhost:8080/"
    },
    "executionInfo": {
     "elapsed": 8,
     "status": "ok",
     "timestamp": 1644574373964,
     "user": {
      "displayName": "Ved Patwardhan",
      "photoUrl": "https://lh3.googleusercontent.com/a-/AOh14GgT_DD3u4DJQL2EyLyaQOO3yAlgxiR_lAAhtbAqKg=s64",
      "userId": "09053447696388235799"
     },
     "user_tz": -330
    },
    "id": "XmM13Y_TI2Cl",
    "outputId": "805e4f4c-15fb-4c2a-92d0-fd3c6a6d389f"
   },
   "outputs": [
    {
     "data": {
      "text/plain": [
       "((112, 4), (38, 4), (112,), (38,))"
      ]
     },
     "execution_count": 17,
     "metadata": {},
     "output_type": "execute_result"
    }
   ],
   "source": [
    "X_train.shape, X_val.shape, Y_train.shape, Y_val.shape"
   ]
  },
  {
   "cell_type": "markdown",
   "metadata": {
    "id": "cqBgP64NLMnF"
   },
   "source": [
    "# Training the Naive Bayes Classifier"
   ]
  },
  {
   "cell_type": "code",
   "execution_count": 18,
   "metadata": {
    "executionInfo": {
     "elapsed": 5,
     "status": "ok",
     "timestamp": 1644574526458,
     "user": {
      "displayName": "Ved Patwardhan",
      "photoUrl": "https://lh3.googleusercontent.com/a-/AOh14GgT_DD3u4DJQL2EyLyaQOO3yAlgxiR_lAAhtbAqKg=s64",
      "userId": "09053447696388235799"
     },
     "user_tz": -330
    },
    "id": "mT-j8HJnLKuH"
   },
   "outputs": [],
   "source": [
    "model = GaussianNB()"
   ]
  },
  {
   "cell_type": "code",
   "execution_count": 19,
   "metadata": {
    "colab": {
     "base_uri": "https://localhost:8080/"
    },
    "executionInfo": {
     "elapsed": 7,
     "status": "ok",
     "timestamp": 1644574528685,
     "user": {
      "displayName": "Ved Patwardhan",
      "photoUrl": "https://lh3.googleusercontent.com/a-/AOh14GgT_DD3u4DJQL2EyLyaQOO3yAlgxiR_lAAhtbAqKg=s64",
      "userId": "09053447696388235799"
     },
     "user_tz": -330
    },
    "id": "j48oGCA8LT-u",
    "outputId": "65b3f155-4ea4-499e-9b36-3dc4a22d0edc"
   },
   "outputs": [
    {
     "data": {
      "text/plain": [
       "GaussianNB()"
      ]
     },
     "execution_count": 19,
     "metadata": {},
     "output_type": "execute_result"
    }
   ],
   "source": [
    "model.fit(X_train, Y_train)"
   ]
  },
  {
   "cell_type": "markdown",
   "metadata": {
    "id": "lIReqKcVR_Cy"
   },
   "source": [
    "# Evaluation"
   ]
  },
  {
   "cell_type": "code",
   "execution_count": 20,
   "metadata": {
    "executionInfo": {
     "elapsed": 612,
     "status": "ok",
     "timestamp": 1644574550796,
     "user": {
      "displayName": "Ved Patwardhan",
      "photoUrl": "https://lh3.googleusercontent.com/a-/AOh14GgT_DD3u4DJQL2EyLyaQOO3yAlgxiR_lAAhtbAqKg=s64",
      "userId": "09053447696388235799"
     },
     "user_tz": -330
    },
    "id": "2pggzXAsR88G"
   },
   "outputs": [],
   "source": [
    "Y_pred = model.predict(X_val)"
   ]
  },
  {
   "cell_type": "code",
   "execution_count": 21,
   "metadata": {
    "executionInfo": {
     "elapsed": 449,
     "status": "ok",
     "timestamp": 1644574675028,
     "user": {
      "displayName": "Ved Patwardhan",
      "photoUrl": "https://lh3.googleusercontent.com/a-/AOh14GgT_DD3u4DJQL2EyLyaQOO3yAlgxiR_lAAhtbAqKg=s64",
      "userId": "09053447696388235799"
     },
     "user_tz": -330
    },
    "id": "1kMVC-5eSCSr"
   },
   "outputs": [],
   "source": [
    "accuracy = accuracy_score(Y_val, Y_pred)"
   ]
  },
  {
   "cell_type": "code",
   "execution_count": 22,
   "metadata": {
    "colab": {
     "base_uri": "https://localhost:8080/"
    },
    "executionInfo": {
     "elapsed": 413,
     "status": "ok",
     "timestamp": 1644574701730,
     "user": {
      "displayName": "Ved Patwardhan",
      "photoUrl": "https://lh3.googleusercontent.com/a-/AOh14GgT_DD3u4DJQL2EyLyaQOO3yAlgxiR_lAAhtbAqKg=s64",
      "userId": "09053447696388235799"
     },
     "user_tz": -330
    },
    "id": "QCX-qBHNSDR2",
    "outputId": "638090f4-8115-4fed-c121-a9043d6857c9"
   },
   "outputs": [
    {
     "name": "stdout",
     "output_type": "stream",
     "text": [
      "Accuracy of Naive Bayes Classfier :  97.36842105263158\n"
     ]
    }
   ],
   "source": [
    "print(\"Accuracy of Naive Bayes Classfier : \", accuracy * 100)"
   ]
  },
  {
   "cell_type": "markdown",
   "metadata": {},
   "source": [
    "# Confusion Matrix"
   ]
  },
  {
   "cell_type": "code",
   "execution_count": 23,
   "metadata": {},
   "outputs": [],
   "source": [
    "cm = confusion_matrix(Y_val, Y_pred)"
   ]
  },
  {
   "cell_type": "code",
   "execution_count": 24,
   "metadata": {},
   "outputs": [
    {
     "data": {
      "text/plain": [
       "array([[13,  0,  0],\n",
       "       [ 0, 13,  0],\n",
       "       [ 0,  1, 11]])"
      ]
     },
     "execution_count": 24,
     "metadata": {},
     "output_type": "execute_result"
    }
   ],
   "source": [
    "cm"
   ]
  },
  {
   "cell_type": "code",
   "execution_count": 25,
   "metadata": {},
   "outputs": [
    {
     "data": {
      "text/plain": [
       "array([13, 13, 12])"
      ]
     },
     "execution_count": 25,
     "metadata": {},
     "output_type": "execute_result"
    }
   ],
   "source": [
    "np.sum(cm, axis=1)"
   ]
  },
  {
   "cell_type": "code",
   "execution_count": 26,
   "metadata": {},
   "outputs": [
    {
     "data": {
      "image/png": "[encoded data removed]",
      "text/plain": [
       "<Figure size 432x288 with 2 Axes>"
      ]
     },
     "metadata": {},
     "output_type": "display_data"
    }
   ],
   "source": [
    "sns.heatmap(cm/np.sum(cm), annot=True, fmt='.2%', cmap='Blues')\n",
    "plt.show()"
   ]
  },
  {
   "cell_type": "markdown",
   "metadata": {},
   "source": [
    "**We need to get the TP, TN, FP, FN, Precision and Recall for each class**"
   ]
  },
  {
   "cell_type": "code",
   "execution_count": 27,
   "metadata": {},
   "outputs": [],
   "source": [
    "def evaluate_metrics_for_class(cm, class_no):\n",
    "    row_sums, col_sums = np.sum(cm, axis=1), np.sum(cm, axis=0)\n",
    "    TP, FP, FN = cm[class_no][class_no], row_sums[class_no] - cm[class_no][class_no], col_sums[class_no] - cm[class_no][class_no]\n",
    "    TN = np.sum(cm) - TP - FP - FN\n",
    "    precision = TP / (TP + FP)\n",
    "    recall = TP / (TP + FN)\n",
    "    return TP, FP, FN, TN, precision, recall"
   ]
  },
  {
   "cell_type": "code",
   "execution_count": 28,
   "metadata": {},
   "outputs": [],
   "source": [
    "TP_Setosa, FP_Setosa, FN_Setosa, TN_Setosa, precision_Setosa, recall_Setosa = evaluate_metrics_for_class(cm, 0)"
   ]
  },
  {
   "cell_type": "code",
   "execution_count": 29,
   "metadata": {},
   "outputs": [
    {
     "name": "stdout",
     "output_type": "stream",
     "text": [
      "For Class Setosa\n",
      "TP :  13\n",
      "FP :  0\n",
      "FN :  0\n",
      "TN :  25\n",
      "Precision :  1.0\n",
      "Recall :  1.0\n"
     ]
    }
   ],
   "source": [
    "print(\"For Class Setosa\")\n",
    "print(\"TP : \", TP_Setosa)\n",
    "print(\"FP : \", FP_Setosa)\n",
    "print(\"FN : \", FN_Setosa)\n",
    "print(\"TN : \", TN_Setosa)\n",
    "print(\"Precision : \", precision_Setosa)\n",
    "print(\"Recall : \", recall_Setosa)"
   ]
  },
  {
   "cell_type": "code",
   "execution_count": 30,
   "metadata": {},
   "outputs": [],
   "source": [
    "TP_Versicolor, FP_Versicolor, FN_Versicolor, TN_Versicolor, precision_Versicolor, recall_Versicolor = evaluate_metrics_for_class(cm, 1)"
   ]
  },
  {
   "cell_type": "code",
   "execution_count": 31,
   "metadata": {},
   "outputs": [
    {
     "name": "stdout",
     "output_type": "stream",
     "text": [
      "For Class Versicolor\n",
      "TP :  13\n",
      "FP :  0\n",
      "FN :  1\n",
      "TN :  24\n",
      "Precision :  1.0\n",
      "Recall :  0.9285714285714286\n"
     ]
    }
   ],
   "source": [
    "print(\"For Class Versicolor\")\n",
    "print(\"TP : \", TP_Versicolor)\n",
    "print(\"FP : \", FP_Versicolor)\n",
    "print(\"FN : \", FN_Versicolor)\n",
    "print(\"TN : \", TN_Versicolor)\n",
    "print(\"Precision : \", precision_Versicolor)\n",
    "print(\"Recall : \", recall_Versicolor)"
   ]
  },
  {
   "cell_type": "code",
   "execution_count": 32,
   "metadata": {},
   "outputs": [],
   "source": [
    "TP_Virginica, FP_Virginica, FN_Virginica, TN_Virginica, precision_Virginica, recall_Virginica = evaluate_metrics_for_class(cm, 2)"
   ]
  },
  {
   "cell_type": "code",
   "execution_count": 33,
   "metadata": {},
   "outputs": [
    {
     "name": "stdout",
     "output_type": "stream",
     "text": [
      "For Class Virginica\n",
      "TP :  11\n",
      "FP :  1\n",
      "FN :  0\n",
      "TN :  26\n",
      "Precision :  0.9166666666666666\n",
      "Recall :  1.0\n"
     ]
    }
   ],
   "source": [
    "print(\"For Class Virginica\")\n",
    "print(\"TP : \", TP_Virginica)\n",
    "print(\"FP : \", FP_Virginica)\n",
    "print(\"FN : \", FN_Virginica)\n",
    "print(\"TN : \", TN_Virginica)\n",
    "print(\"Precision : \", precision_Virginica)\n",
    "print(\"Recall : \", recall_Virginica)"
   ]
  }
 ],
 "metadata": {
  "colab": {
   "authorship_tag": "ABX9TyMHby+2LmR9mazjHUxs0ODs",
   "name": "1102_DSBDAL_Assignment_6.ipynb",
   "provenance": []
  },
  "kernelspec": {
   "display_name": "Python 3",
   "language": "python",
   "name": "python3"
  },
  "language_info": {
   "codemirror_mode": {
    "name": "ipython",
    "version": 3
   },
   "file_extension": ".py",
   "mimetype": "text/x-python",
   "name": "python",
   "nbconvert_exporter": "python",
   "pygments_lexer": "ipython3",
   "version": "3.8.10"
  }
 },
 "nbformat": 4,
 "nbformat_minor": 1
}
