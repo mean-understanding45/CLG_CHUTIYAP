{
 "cells": [
  {
   "cell_type": "markdown",
   "id": "ab3f71d1",
   "metadata": {},
   "source": [
    "Predict the price of the Uber ride from a given pickup point to the agreed drop-off location.\n",
    "Perform following tasks:\n",
    "1. Pre-process the dataset.\n",
    "2. Identify outliers.\n",
    "3. Check the correlation.\n",
    "4. Implement linear regression and random forest regression models.\n",
    "5. Evaluate the models and compare their respective scores like R2, RMSE, etc.\n",
    "Dataset link: https://www.kaggle.com/datasets/yasserh/uber-fares-dataset"
   ]
  },
  {
   "cell_type": "code",
   "execution_count": 11,
   "id": "07436943",
   "metadata": {},
   "outputs": [],
   "source": [
    "import numpy as np\n",
    "import pandas as pd\n",
    "import matplotlib.pyplot as plt\n",
    "import seaborn as sns\n",
    "from sklearn.model_selection import train_test_split\n",
    "from sklearn.linear_model import LinearRegression\n",
    "from sklearn.metrics import classification_report\n",
    "from haversine import haversine,Unit\n",
    "\n",
    "import warnings\n",
    "warnings.filterwarnings('ignore')"
   ]
  },
  {
   "cell_type": "code",
   "execution_count": 2,
   "id": "36e69937",
   "metadata": {},
   "outputs": [
    {
     "data": {
      "text/html": [
       "<div>\n",
       "<style scoped>\n",
       "    .dataframe tbody tr th:only-of-type {\n",
       "        vertical-align: middle;\n",
       "    }\n",
       "\n",
       "    .dataframe tbody tr th {\n",
       "        vertical-align: top;\n",
       "    }\n",
       "\n",
       "    .dataframe thead th {\n",
       "        text-align: right;\n",
       "    }\n",
       "</style>\n",
       "<table border=\"1\" class=\"dataframe\">\n",
       "  <thead>\n",
       "    <tr style=\"text-align: right;\">\n",
       "      <th></th>\n",
       "      <th>Unnamed: 0</th>\n",
       "      <th>key</th>\n",
       "      <th>fare_amount</th>\n",
       "      <th>pickup_datetime</th>\n",
       "      <th>pickup_longitude</th>\n",
       "      <th>pickup_latitude</th>\n",
       "      <th>dropoff_longitude</th>\n",
       "      <th>dropoff_latitude</th>\n",
       "      <th>passenger_count</th>\n",
       "    </tr>\n",
       "  </thead>\n",
       "  <tbody>\n",
       "    <tr>\n",
       "      <th>0</th>\n",
       "      <td>24238194</td>\n",
       "      <td>2015-05-07 19:52:06.0000003</td>\n",
       "      <td>7.5</td>\n",
       "      <td>2015-05-07 19:52:06 UTC</td>\n",
       "      <td>-73.999817</td>\n",
       "      <td>40.738354</td>\n",
       "      <td>-73.999512</td>\n",
       "      <td>40.723217</td>\n",
       "      <td>1</td>\n",
       "    </tr>\n",
       "    <tr>\n",
       "      <th>1</th>\n",
       "      <td>27835199</td>\n",
       "      <td>2009-07-17 20:04:56.0000002</td>\n",
       "      <td>7.7</td>\n",
       "      <td>2009-07-17 20:04:56 UTC</td>\n",
       "      <td>-73.994355</td>\n",
       "      <td>40.728225</td>\n",
       "      <td>-73.994710</td>\n",
       "      <td>40.750325</td>\n",
       "      <td>1</td>\n",
       "    </tr>\n",
       "    <tr>\n",
       "      <th>2</th>\n",
       "      <td>44984355</td>\n",
       "      <td>2009-08-24 21:45:00.00000061</td>\n",
       "      <td>12.9</td>\n",
       "      <td>2009-08-24 21:45:00 UTC</td>\n",
       "      <td>-74.005043</td>\n",
       "      <td>40.740770</td>\n",
       "      <td>-73.962565</td>\n",
       "      <td>40.772647</td>\n",
       "      <td>1</td>\n",
       "    </tr>\n",
       "    <tr>\n",
       "      <th>3</th>\n",
       "      <td>25894730</td>\n",
       "      <td>2009-06-26 08:22:21.0000001</td>\n",
       "      <td>5.3</td>\n",
       "      <td>2009-06-26 08:22:21 UTC</td>\n",
       "      <td>-73.976124</td>\n",
       "      <td>40.790844</td>\n",
       "      <td>-73.965316</td>\n",
       "      <td>40.803349</td>\n",
       "      <td>3</td>\n",
       "    </tr>\n",
       "    <tr>\n",
       "      <th>4</th>\n",
       "      <td>17610152</td>\n",
       "      <td>2014-08-28 17:47:00.000000188</td>\n",
       "      <td>16.0</td>\n",
       "      <td>2014-08-28 17:47:00 UTC</td>\n",
       "      <td>-73.925023</td>\n",
       "      <td>40.744085</td>\n",
       "      <td>-73.973082</td>\n",
       "      <td>40.761247</td>\n",
       "      <td>5</td>\n",
       "    </tr>\n",
       "  </tbody>\n",
       "</table>\n",
       "</div>"
      ],
      "text/plain": [
       "   Unnamed: 0                            key  fare_amount  \\\n",
       "0    24238194    2015-05-07 19:52:06.0000003          7.5   \n",
       "1    27835199    2009-07-17 20:04:56.0000002          7.7   \n",
       "2    44984355   2009-08-24 21:45:00.00000061         12.9   \n",
       "3    25894730    2009-06-26 08:22:21.0000001          5.3   \n",
       "4    17610152  2014-08-28 17:47:00.000000188         16.0   \n",
       "\n",
       "           pickup_datetime  pickup_longitude  pickup_latitude  \\\n",
       "0  2015-05-07 19:52:06 UTC        -73.999817        40.738354   \n",
       "1  2009-07-17 20:04:56 UTC        -73.994355        40.728225   \n",
       "2  2009-08-24 21:45:00 UTC        -74.005043        40.740770   \n",
       "3  2009-06-26 08:22:21 UTC        -73.976124        40.790844   \n",
       "4  2014-08-28 17:47:00 UTC        -73.925023        40.744085   \n",
       "\n",
       "   dropoff_longitude  dropoff_latitude  passenger_count  \n",
       "0         -73.999512         40.723217                1  \n",
       "1         -73.994710         40.750325                1  \n",
       "2         -73.962565         40.772647                1  \n",
       "3         -73.965316         40.803349                3  \n",
       "4         -73.973082         40.761247                5  "
      ]
     },
     "execution_count": 2,
     "metadata": {},
     "output_type": "execute_result"
    }
   ],
   "source": [
    "data = pd.read_csv(\"uber.csv.xls\")\n",
    "data.head()"
   ]
  },
  {
   "cell_type": "code",
   "execution_count": 3,
   "id": "27d5f461",
   "metadata": {},
   "outputs": [
    {
     "data": {
      "text/html": [
       "<div>\n",
       "<style scoped>\n",
       "    .dataframe tbody tr th:only-of-type {\n",
       "        vertical-align: middle;\n",
       "    }\n",
       "\n",
       "    .dataframe tbody tr th {\n",
       "        vertical-align: top;\n",
       "    }\n",
       "\n",
       "    .dataframe thead th {\n",
       "        text-align: right;\n",
       "    }\n",
       "</style>\n",
       "<table border=\"1\" class=\"dataframe\">\n",
       "  <thead>\n",
       "    <tr style=\"text-align: right;\">\n",
       "      <th></th>\n",
       "      <th>Unnamed: 0</th>\n",
       "      <th>key</th>\n",
       "      <th>fare_amount</th>\n",
       "      <th>pickup_datetime</th>\n",
       "      <th>pickup_longitude</th>\n",
       "      <th>pickup_latitude</th>\n",
       "      <th>dropoff_longitude</th>\n",
       "      <th>dropoff_latitude</th>\n",
       "      <th>passenger_count</th>\n",
       "    </tr>\n",
       "  </thead>\n",
       "  <tbody>\n",
       "    <tr>\n",
       "      <th>0</th>\n",
       "      <td>24238194</td>\n",
       "      <td>2015-05-07 19:52:06.0000003</td>\n",
       "      <td>7.5</td>\n",
       "      <td>2015-05-07 19:52:06 UTC</td>\n",
       "      <td>-73.999817</td>\n",
       "      <td>40.738354</td>\n",
       "      <td>-73.999512</td>\n",
       "      <td>40.723217</td>\n",
       "      <td>1</td>\n",
       "    </tr>\n",
       "    <tr>\n",
       "      <th>1</th>\n",
       "      <td>27835199</td>\n",
       "      <td>2009-07-17 20:04:56.0000002</td>\n",
       "      <td>7.7</td>\n",
       "      <td>2009-07-17 20:04:56 UTC</td>\n",
       "      <td>-73.994355</td>\n",
       "      <td>40.728225</td>\n",
       "      <td>-73.994710</td>\n",
       "      <td>40.750325</td>\n",
       "      <td>1</td>\n",
       "    </tr>\n",
       "    <tr>\n",
       "      <th>2</th>\n",
       "      <td>44984355</td>\n",
       "      <td>2009-08-24 21:45:00.00000061</td>\n",
       "      <td>12.9</td>\n",
       "      <td>2009-08-24 21:45:00 UTC</td>\n",
       "      <td>-74.005043</td>\n",
       "      <td>40.740770</td>\n",
       "      <td>-73.962565</td>\n",
       "      <td>40.772647</td>\n",
       "      <td>1</td>\n",
       "    </tr>\n",
       "    <tr>\n",
       "      <th>3</th>\n",
       "      <td>25894730</td>\n",
       "      <td>2009-06-26 08:22:21.0000001</td>\n",
       "      <td>5.3</td>\n",
       "      <td>2009-06-26 08:22:21 UTC</td>\n",
       "      <td>-73.976124</td>\n",
       "      <td>40.790844</td>\n",
       "      <td>-73.965316</td>\n",
       "      <td>40.803349</td>\n",
       "      <td>3</td>\n",
       "    </tr>\n",
       "    <tr>\n",
       "      <th>4</th>\n",
       "      <td>17610152</td>\n",
       "      <td>2014-08-28 17:47:00.000000188</td>\n",
       "      <td>16.0</td>\n",
       "      <td>2014-08-28 17:47:00 UTC</td>\n",
       "      <td>-73.925023</td>\n",
       "      <td>40.744085</td>\n",
       "      <td>-73.973082</td>\n",
       "      <td>40.761247</td>\n",
       "      <td>5</td>\n",
       "    </tr>\n",
       "  </tbody>\n",
       "</table>\n",
       "</div>"
      ],
      "text/plain": [
       "   Unnamed: 0                            key  fare_amount  \\\n",
       "0    24238194    2015-05-07 19:52:06.0000003          7.5   \n",
       "1    27835199    2009-07-17 20:04:56.0000002          7.7   \n",
       "2    44984355   2009-08-24 21:45:00.00000061         12.9   \n",
       "3    25894730    2009-06-26 08:22:21.0000001          5.3   \n",
       "4    17610152  2014-08-28 17:47:00.000000188         16.0   \n",
       "\n",
       "           pickup_datetime  pickup_longitude  pickup_latitude  \\\n",
       "0  2015-05-07 19:52:06 UTC        -73.999817        40.738354   \n",
       "1  2009-07-17 20:04:56 UTC        -73.994355        40.728225   \n",
       "2  2009-08-24 21:45:00 UTC        -74.005043        40.740770   \n",
       "3  2009-06-26 08:22:21 UTC        -73.976124        40.790844   \n",
       "4  2014-08-28 17:47:00 UTC        -73.925023        40.744085   \n",
       "\n",
       "   dropoff_longitude  dropoff_latitude  passenger_count  \n",
       "0         -73.999512         40.723217                1  \n",
       "1         -73.994710         40.750325                1  \n",
       "2         -73.962565         40.772647                1  \n",
       "3         -73.965316         40.803349                3  \n",
       "4         -73.973082         40.761247                5  "
      ]
     },
     "execution_count": 3,
     "metadata": {},
     "output_type": "execute_result"
    }
   ],
   "source": [
    "df = data.copy()\n",
    "df.head()"
   ]
  },
  {
   "cell_type": "code",
   "execution_count": 4,
   "id": "ba1e35be",
   "metadata": {},
   "outputs": [
    {
     "name": "stdout",
     "output_type": "stream",
     "text": [
      "<class 'pandas.core.frame.DataFrame'>\n",
      "RangeIndex: 200000 entries, 0 to 199999\n",
      "Data columns (total 9 columns):\n",
      " #   Column             Non-Null Count   Dtype  \n",
      "---  ------             --------------   -----  \n",
      " 0   Unnamed: 0         200000 non-null  int64  \n",
      " 1   key                200000 non-null  object \n",
      " 2   fare_amount        200000 non-null  float64\n",
      " 3   pickup_datetime    200000 non-null  object \n",
      " 4   pickup_longitude   200000 non-null  float64\n",
      " 5   pickup_latitude    200000 non-null  float64\n",
      " 6   dropoff_longitude  199999 non-null  float64\n",
      " 7   dropoff_latitude   199999 non-null  float64\n",
      " 8   passenger_count    200000 non-null  int64  \n",
      "dtypes: float64(5), int64(2), object(2)\n",
      "memory usage: 13.7+ MB\n"
     ]
    }
   ],
   "source": [
    "df.info()"
   ]
  },
  {
   "cell_type": "code",
   "execution_count": 5,
   "id": "89a23f46",
   "metadata": {},
   "outputs": [
    {
     "data": {
      "text/html": [
       "<div>\n",
       "<style scoped>\n",
       "    .dataframe tbody tr th:only-of-type {\n",
       "        vertical-align: middle;\n",
       "    }\n",
       "\n",
       "    .dataframe tbody tr th {\n",
       "        vertical-align: top;\n",
       "    }\n",
       "\n",
       "    .dataframe thead th {\n",
       "        text-align: right;\n",
       "    }\n",
       "</style>\n",
       "<table border=\"1\" class=\"dataframe\">\n",
       "  <thead>\n",
       "    <tr style=\"text-align: right;\">\n",
       "      <th></th>\n",
       "      <th>Unnamed: 0</th>\n",
       "      <th>fare_amount</th>\n",
       "      <th>pickup_longitude</th>\n",
       "      <th>pickup_latitude</th>\n",
       "      <th>dropoff_longitude</th>\n",
       "      <th>dropoff_latitude</th>\n",
       "      <th>passenger_count</th>\n",
       "    </tr>\n",
       "  </thead>\n",
       "  <tbody>\n",
       "    <tr>\n",
       "      <th>count</th>\n",
       "      <td>2.000000e+05</td>\n",
       "      <td>200000.000000</td>\n",
       "      <td>200000.000000</td>\n",
       "      <td>200000.000000</td>\n",
       "      <td>199999.000000</td>\n",
       "      <td>199999.000000</td>\n",
       "      <td>200000.000000</td>\n",
       "    </tr>\n",
       "    <tr>\n",
       "      <th>mean</th>\n",
       "      <td>2.771250e+07</td>\n",
       "      <td>11.359955</td>\n",
       "      <td>-72.527638</td>\n",
       "      <td>39.935885</td>\n",
       "      <td>-72.525292</td>\n",
       "      <td>39.923890</td>\n",
       "      <td>1.684535</td>\n",
       "    </tr>\n",
       "    <tr>\n",
       "      <th>std</th>\n",
       "      <td>1.601382e+07</td>\n",
       "      <td>9.901776</td>\n",
       "      <td>11.437787</td>\n",
       "      <td>7.720539</td>\n",
       "      <td>13.117408</td>\n",
       "      <td>6.794829</td>\n",
       "      <td>1.385997</td>\n",
       "    </tr>\n",
       "    <tr>\n",
       "      <th>min</th>\n",
       "      <td>1.000000e+00</td>\n",
       "      <td>-52.000000</td>\n",
       "      <td>-1340.648410</td>\n",
       "      <td>-74.015515</td>\n",
       "      <td>-3356.666300</td>\n",
       "      <td>-881.985513</td>\n",
       "      <td>0.000000</td>\n",
       "    </tr>\n",
       "    <tr>\n",
       "      <th>25%</th>\n",
       "      <td>1.382535e+07</td>\n",
       "      <td>6.000000</td>\n",
       "      <td>-73.992065</td>\n",
       "      <td>40.734796</td>\n",
       "      <td>-73.991407</td>\n",
       "      <td>40.733823</td>\n",
       "      <td>1.000000</td>\n",
       "    </tr>\n",
       "    <tr>\n",
       "      <th>50%</th>\n",
       "      <td>2.774550e+07</td>\n",
       "      <td>8.500000</td>\n",
       "      <td>-73.981823</td>\n",
       "      <td>40.752592</td>\n",
       "      <td>-73.980093</td>\n",
       "      <td>40.753042</td>\n",
       "      <td>1.000000</td>\n",
       "    </tr>\n",
       "    <tr>\n",
       "      <th>75%</th>\n",
       "      <td>4.155530e+07</td>\n",
       "      <td>12.500000</td>\n",
       "      <td>-73.967154</td>\n",
       "      <td>40.767158</td>\n",
       "      <td>-73.963658</td>\n",
       "      <td>40.768001</td>\n",
       "      <td>2.000000</td>\n",
       "    </tr>\n",
       "    <tr>\n",
       "      <th>max</th>\n",
       "      <td>5.542357e+07</td>\n",
       "      <td>499.000000</td>\n",
       "      <td>57.418457</td>\n",
       "      <td>1644.421482</td>\n",
       "      <td>1153.572603</td>\n",
       "      <td>872.697628</td>\n",
       "      <td>208.000000</td>\n",
       "    </tr>\n",
       "  </tbody>\n",
       "</table>\n",
       "</div>"
      ],
      "text/plain": [
       "         Unnamed: 0    fare_amount  pickup_longitude  pickup_latitude  \\\n",
       "count  2.000000e+05  200000.000000     200000.000000    200000.000000   \n",
       "mean   2.771250e+07      11.359955        -72.527638        39.935885   \n",
       "std    1.601382e+07       9.901776         11.437787         7.720539   \n",
       "min    1.000000e+00     -52.000000      -1340.648410       -74.015515   \n",
       "25%    1.382535e+07       6.000000        -73.992065        40.734796   \n",
       "50%    2.774550e+07       8.500000        -73.981823        40.752592   \n",
       "75%    4.155530e+07      12.500000        -73.967154        40.767158   \n",
       "max    5.542357e+07     499.000000         57.418457      1644.421482   \n",
       "\n",
       "       dropoff_longitude  dropoff_latitude  passenger_count  \n",
       "count      199999.000000     199999.000000    200000.000000  \n",
       "mean          -72.525292         39.923890         1.684535  \n",
       "std            13.117408          6.794829         1.385997  \n",
       "min         -3356.666300       -881.985513         0.000000  \n",
       "25%           -73.991407         40.733823         1.000000  \n",
       "50%           -73.980093         40.753042         1.000000  \n",
       "75%           -73.963658         40.768001         2.000000  \n",
       "max          1153.572603        872.697628       208.000000  "
      ]
     },
     "execution_count": 5,
     "metadata": {},
     "output_type": "execute_result"
    }
   ],
   "source": [
    "df.describe()"
   ]
  },
  {
   "cell_type": "code",
   "execution_count": 6,
   "id": "981a7c13",
   "metadata": {},
   "outputs": [
    {
     "data": {
      "text/plain": [
       "Unnamed: 0           0\n",
       "key                  0\n",
       "fare_amount          0\n",
       "pickup_datetime      0\n",
       "pickup_longitude     0\n",
       "pickup_latitude      0\n",
       "dropoff_longitude    1\n",
       "dropoff_latitude     1\n",
       "passenger_count      0\n",
       "dtype: int64"
      ]
     },
     "execution_count": 6,
     "metadata": {},
     "output_type": "execute_result"
    }
   ],
   "source": [
    "df.isnull().sum()"
   ]
  },
  {
   "cell_type": "code",
   "execution_count": 7,
   "id": "0aa8a2c1",
   "metadata": {},
   "outputs": [],
   "source": [
    "df = df.drop(['Unnamed: 0','key'],axis=1)\n",
    "df.dropna(axis=0,inplace=True)"
   ]
  },
  {
   "cell_type": "code",
   "execution_count": 8,
   "id": "7d0d68f7",
   "metadata": {},
   "outputs": [
    {
     "data": {
      "text/plain": [
       "fare_amount          0\n",
       "pickup_datetime      0\n",
       "pickup_longitude     0\n",
       "pickup_latitude      0\n",
       "dropoff_longitude    0\n",
       "dropoff_latitude     0\n",
       "passenger_count      0\n",
       "dtype: int64"
      ]
     },
     "execution_count": 8,
     "metadata": {},
     "output_type": "execute_result"
    }
   ],
   "source": [
    "df.isnull().sum()"
   ]
  },
  {
   "cell_type": "markdown",
   "id": "d8716690",
   "metadata": {},
   "source": [
    "## Haversine Formula\n",
    "Calculating the distance between the pickup and drop co-ordinates using the Haversine formula for accuracy."
   ]
  },
  {
   "attachments": {
    "image.png": {
     "image/png": "[encoded data removed]"
    }
   },
   "cell_type": "markdown",
   "id": "94018e3c",
   "metadata": {},
   "source": [
    "![image.png](attachment:image.png)"
   ]
  },
  {
   "cell_type": "code",
   "execution_count": 9,
   "id": "9089d235",
   "metadata": {},
   "outputs": [],
   "source": [
    "# def haversine (lon_1, lon_2, lat_1, lat_2):\n",
    "    \n",
    "#     lon_1, lon_2, lat_1, lat_2 = map(np.radians, [lon_1, lon_2, lat_1, lat_2])  #Degrees to Radians\n",
    "    \n",
    "    \n",
    "#     diff_lon = lon_2 - lon_1\n",
    "#     diff_lat = lat_2 - lat_1\n",
    "    \n",
    "\n",
    "#     km = 2 * 6371 * np.arcsin(np.sqrt(np.sin(diff_lat/2.0)**2 + \n",
    "#                                       np.cos(lat_1) * np.cos(lat_2) * np.sin(diff_lon/2.0)**2))\n",
    "    \n",
    "#     return km\n",
    "\n",
    "# def haversine(lon1,lon2,lat1,lat2):\n",
    "#     lon_1,lon_2,lat_1,lat_2=map(np.radians,[lon1,lon2,lat1,lat2])\n",
    "#     diff_lon="
   ]
  },
  {
   "cell_type": "code",
   "execution_count": 10,
   "id": "9bec6435",
   "metadata": {},
   "outputs": [
    {
     "ename": "ValueError",
     "evalue": "The truth value of a Series is ambiguous. Use a.empty, a.bool(), a.item(), a.any() or a.all().",
     "output_type": "error",
     "traceback": [
      "\u001b[1;31m---------------------------------------------------------------------------\u001b[0m",
      "\u001b[1;31mValueError\u001b[0m                                Traceback (most recent call last)",
      "Cell \u001b[1;32mIn [10], line 1\u001b[0m\n\u001b[1;32m----> 1\u001b[0m df[\u001b[38;5;124m'\u001b[39m\u001b[38;5;124mDistance\u001b[39m\u001b[38;5;124m'\u001b[39m]\u001b[38;5;241m=\u001b[39m \u001b[43mhaversine\u001b[49m\u001b[43m(\u001b[49m\u001b[43m(\u001b[49m\u001b[43mdf\u001b[49m\u001b[43m[\u001b[49m\u001b[38;5;124;43m'\u001b[39;49m\u001b[38;5;124;43mpickup_latitude\u001b[39;49m\u001b[38;5;124;43m'\u001b[39;49m\u001b[43m]\u001b[49m\u001b[43m,\u001b[49m\u001b[43m \u001b[49m\u001b[43mdf\u001b[49m\u001b[43m[\u001b[49m\u001b[38;5;124;43m'\u001b[39;49m\u001b[38;5;124;43mpickup_longitude\u001b[39;49m\u001b[38;5;124;43m'\u001b[39;49m\u001b[43m]\u001b[49m\u001b[43m)\u001b[49m\u001b[43m,\u001b[49m\u001b[43m(\u001b[49m\u001b[43mdf\u001b[49m\u001b[43m[\u001b[49m\u001b[38;5;124;43m'\u001b[39;49m\u001b[38;5;124;43mdropoff_latitude\u001b[39;49m\u001b[38;5;124;43m'\u001b[39;49m\u001b[43m]\u001b[49m\u001b[43m,\u001b[49m\u001b[43m \u001b[49m\u001b[43mdf\u001b[49m\u001b[43m[\u001b[49m\u001b[38;5;124;43m'\u001b[39;49m\u001b[38;5;124;43mdropoff_longitude\u001b[39;49m\u001b[38;5;124;43m'\u001b[39;49m\u001b[43m]\u001b[49m\u001b[43m)\u001b[49m\u001b[43m)\u001b[49m\n\u001b[0;32m      2\u001b[0m df[\u001b[38;5;124m'\u001b[39m\u001b[38;5;124mDistance\u001b[39m\u001b[38;5;124m'\u001b[39m] \u001b[38;5;241m=\u001b[39m df[\u001b[38;5;124m'\u001b[39m\u001b[38;5;124mDistance\u001b[39m\u001b[38;5;124m'\u001b[39m]\u001b[38;5;241m.\u001b[39mastype(\u001b[38;5;28mfloat\u001b[39m)\u001b[38;5;241m.\u001b[39mround(\u001b[38;5;241m2\u001b[39m) \n",
      "File \u001b[1;32mc:\\users\\mr09p\\appdata\\local\\programs\\python\\python39\\lib\\site-packages\\haversine\\haversine.py:119\u001b[0m, in \u001b[0;36mhaversine\u001b[1;34m(point1, point2, unit, normalize)\u001b[0m\n\u001b[0;32m    117\u001b[0m     lat2, lng2 \u001b[38;5;241m=\u001b[39m _normalize(lat2, lng2)\n\u001b[0;32m    118\u001b[0m \u001b[38;5;28;01melse\u001b[39;00m:\n\u001b[1;32m--> 119\u001b[0m     \u001b[43m_ensure_lat_lon\u001b[49m\u001b[43m(\u001b[49m\u001b[43mlat1\u001b[49m\u001b[43m,\u001b[49m\u001b[43m \u001b[49m\u001b[43mlng1\u001b[49m\u001b[43m)\u001b[49m\n\u001b[0;32m    120\u001b[0m     _ensure_lat_lon(lat2, lng2)\n\u001b[0;32m    122\u001b[0m \u001b[38;5;66;03m# convert all latitudes/longitudes from decimal degrees to radians\u001b[39;00m\n",
      "File \u001b[1;32mc:\\users\\mr09p\\appdata\\local\\programs\\python\\python39\\lib\\site-packages\\haversine\\haversine.py:79\u001b[0m, in \u001b[0;36m_ensure_lat_lon\u001b[1;34m(lat, lon)\u001b[0m\n\u001b[0;32m     75\u001b[0m \u001b[38;5;28;01mdef\u001b[39;00m \u001b[38;5;21m_ensure_lat_lon\u001b[39m(lat: \u001b[38;5;28mfloat\u001b[39m, lon: \u001b[38;5;28mfloat\u001b[39m):\n\u001b[0;32m     76\u001b[0m     \u001b[38;5;124;03m\"\"\"\u001b[39;00m\n\u001b[0;32m     77\u001b[0m \u001b[38;5;124;03m    Ensure that the given latitude and longitude have proper values. An exception is raised if they are not.\u001b[39;00m\n\u001b[0;32m     78\u001b[0m \u001b[38;5;124;03m    \"\"\"\u001b[39;00m\n\u001b[1;32m---> 79\u001b[0m     \u001b[38;5;28;01mif\u001b[39;00m \u001b[43mlat\u001b[49m\u001b[43m \u001b[49m\u001b[38;5;241;43m<\u001b[39;49m\u001b[43m \u001b[49m\u001b[38;5;241;43m-\u001b[39;49m\u001b[38;5;241;43m90\u001b[39;49m \u001b[38;5;129;01mor\u001b[39;00m lat \u001b[38;5;241m>\u001b[39m \u001b[38;5;241m90\u001b[39m:\n\u001b[0;32m     80\u001b[0m         \u001b[38;5;28;01mraise\u001b[39;00m \u001b[38;5;167;01mValueError\u001b[39;00m(\u001b[38;5;124mf\u001b[39m\u001b[38;5;124m\"\u001b[39m\u001b[38;5;124mLatitude \u001b[39m\u001b[38;5;132;01m{\u001b[39;00mlat\u001b[38;5;132;01m}\u001b[39;00m\u001b[38;5;124m is out of range [-90, 90]\u001b[39m\u001b[38;5;124m\"\u001b[39m)\n\u001b[0;32m     81\u001b[0m     \u001b[38;5;28;01mif\u001b[39;00m lon \u001b[38;5;241m<\u001b[39m \u001b[38;5;241m-\u001b[39m\u001b[38;5;241m180\u001b[39m \u001b[38;5;129;01mor\u001b[39;00m lon \u001b[38;5;241m>\u001b[39m \u001b[38;5;241m180\u001b[39m:\n",
      "File \u001b[1;32mc:\\users\\mr09p\\appdata\\local\\programs\\python\\python39\\lib\\site-packages\\pandas\\core\\generic.py:1527\u001b[0m, in \u001b[0;36mNDFrame.__nonzero__\u001b[1;34m(self)\u001b[0m\n\u001b[0;32m   1525\u001b[0m \u001b[38;5;129m@final\u001b[39m\n\u001b[0;32m   1526\u001b[0m \u001b[38;5;28;01mdef\u001b[39;00m \u001b[38;5;21m__nonzero__\u001b[39m(\u001b[38;5;28mself\u001b[39m) \u001b[38;5;241m-\u001b[39m\u001b[38;5;241m>\u001b[39m NoReturn:\n\u001b[1;32m-> 1527\u001b[0m     \u001b[38;5;28;01mraise\u001b[39;00m \u001b[38;5;167;01mValueError\u001b[39;00m(\n\u001b[0;32m   1528\u001b[0m         \u001b[38;5;124mf\u001b[39m\u001b[38;5;124m\"\u001b[39m\u001b[38;5;124mThe truth value of a \u001b[39m\u001b[38;5;132;01m{\u001b[39;00m\u001b[38;5;28mtype\u001b[39m(\u001b[38;5;28mself\u001b[39m)\u001b[38;5;241m.\u001b[39m\u001b[38;5;18m__name__\u001b[39m\u001b[38;5;132;01m}\u001b[39;00m\u001b[38;5;124m is ambiguous. \u001b[39m\u001b[38;5;124m\"\u001b[39m\n\u001b[0;32m   1529\u001b[0m         \u001b[38;5;124m\"\u001b[39m\u001b[38;5;124mUse a.empty, a.bool(), a.item(), a.any() or a.all().\u001b[39m\u001b[38;5;124m\"\u001b[39m\n\u001b[0;32m   1530\u001b[0m     )\n",
      "\u001b[1;31mValueError\u001b[0m: The truth value of a Series is ambiguous. Use a.empty, a.bool(), a.item(), a.any() or a.all()."
     ]
    }
   ],
   "source": [
    "df['Distance']= haversine((df['pickup_latitude'], df['pickup_longitude']),(df['dropoff_latitude'], df['dropoff_longitude']))\n",
    "df['Distance'] = df['Distance'].astype(float).round(2) "
   ]
  },
  {
   "cell_type": "code",
   "execution_count": null,
   "id": "60e7783a",
   "metadata": {},
   "outputs": [],
   "source": [
    "df.head()"
   ]
  },
  {
   "cell_type": "code",
   "execution_count": null,
   "id": "b0865306",
   "metadata": {},
   "outputs": [],
   "source": [
    "plt.scatter(df['Distance'], df['fare_amount'])\n",
    "plt.xlabel(\"Distance\")\n",
    "plt.ylabel(\"fare_amount\")"
   ]
  },
  {
   "cell_type": "markdown",
   "id": "7aadb5dd",
   "metadata": {},
   "source": [
    "## Outliers\n",
    "We can get rid of the trips with very large distances that are outliers as well as trips with 0 distance."
   ]
  },
  {
   "cell_type": "code",
   "execution_count": null,
   "id": "1eac251f",
   "metadata": {},
   "outputs": [],
   "source": [
    "df.drop(df[df['Distance'] > 60].index, inplace = True)\n",
    "df.drop(df[df['Distance'] == 0].index, inplace = True)\n",
    "df.drop(df[df['Distance'] < 0].index, inplace = True)\n",
    "\n",
    "df.drop(df[df['fare_amount'] == 0].index, inplace = True)\n",
    "df.drop(df[df['fare_amount'] < 0].index, inplace = True)"
   ]
  },
  {
   "cell_type": "code",
   "execution_count": null,
   "id": "8bf6c882",
   "metadata": {},
   "outputs": [],
   "source": [
    "df.drop(df[df['Distance'] > 100].index, inplace = True)\n",
    "df.drop(df[df['fare_amount'] > 100].index, inplace = True)"
   ]
  },
  {
   "cell_type": "markdown",
   "id": "94f1148b",
   "metadata": {},
   "source": [
    "Also removing rows with non-plausible fare amounts and distance travelled"
   ]
  },
  {
   "cell_type": "code",
   "execution_count": null,
   "id": "89884e0e",
   "metadata": {},
   "outputs": [],
   "source": [
    "df.drop(df[(df['fare_amount']>100) & (df['Distance']<1)].index, inplace = True )\n",
    "df.drop(df[(df['fare_amount']<100) & (df['Distance']>100)].index, inplace = True )"
   ]
  },
  {
   "cell_type": "code",
   "execution_count": null,
   "id": "3ad648a1",
   "metadata": {},
   "outputs": [],
   "source": [
    "df.info()"
   ]
  },
  {
   "cell_type": "code",
   "execution_count": null,
   "id": "803bc966",
   "metadata": {},
   "outputs": [],
   "source": [
    "plt.scatter(df['Distance'], df['fare_amount'])\n",
    "plt.xlabel(\"Distance\")\n",
    "plt.ylabel(\"fare_amount\")"
   ]
  },
  {
   "cell_type": "markdown",
   "id": "77a3dacb",
   "metadata": {},
   "source": [
    "Separating the date and time into separate columns for more usability"
   ]
  },
  {
   "cell_type": "code",
   "execution_count": null,
   "id": "fdc473d5",
   "metadata": {},
   "outputs": [],
   "source": [
    "df['pickup_datetime'] = pd.to_datetime(df['pickup_datetime'])\n",
    "\n",
    "df['Year'] = df['pickup_datetime'].apply(lambda time: time.year)\n",
    "df['Month'] = df['pickup_datetime'].apply(lambda time: time.month)\n",
    "df['Day'] = df['pickup_datetime'].apply(lambda time: time.day)\n",
    "df['Day of Week'] = df['pickup_datetime'].apply(lambda time: time.dayofweek)\n",
    "df['Day of Week_num'] = df['pickup_datetime'].apply(lambda time: time.dayofweek)\n",
    "df['Hour'] = df['pickup_datetime'].apply(lambda time: time.hour)\n",
    "\n",
    "day_map = {0:'Mon',1:'Tue',2:'Wed',3:'Thu',4:'Fri',5:'Sat',6:'Sun'}\n",
    "df['Day of Week'] = df['Day of Week'].map(day_map)\n",
    "\n",
    "df['counter'] = 1"
   ]
  },
  {
   "cell_type": "markdown",
   "id": "0153bdf7",
   "metadata": {},
   "source": [
    "Creating separate coumns for pickup and droppoff coordinates for more usability."
   ]
  },
  {
   "cell_type": "code",
   "execution_count": null,
   "id": "9221cc6d",
   "metadata": {},
   "outputs": [],
   "source": [
    "df['pickup'] = df['pickup_latitude'].astype(str) + \",\" + df['pickup_longitude'].astype(str)   \n",
    "df['drop off'] = df['dropoff_latitude'].astype(str) + \",\" + df['dropoff_longitude'].astype(str)"
   ]
  },
  {
   "cell_type": "code",
   "execution_count": null,
   "id": "50ad3702",
   "metadata": {},
   "outputs": [],
   "source": [
    "df.head()"
   ]
  },
  {
   "cell_type": "markdown",
   "id": "f72824bb",
   "metadata": {},
   "source": [
    "## Correlation"
   ]
  },
  {
   "cell_type": "code",
   "execution_count": null,
   "id": "e58dd058",
   "metadata": {},
   "outputs": [],
   "source": [
    "corr = df.corr()\n",
    "\n",
    "corr.style.background_gradient(cmap='BuGn')"
   ]
  },
  {
   "cell_type": "markdown",
   "id": "0ec85a61",
   "metadata": {},
   "source": [
    "There is some correlation between the distance and fare amount.<br> \n",
    "Implementing simple linear regression model using these two varaibles."
   ]
  },
  {
   "cell_type": "code",
   "execution_count": null,
   "id": "e6bf35f2",
   "metadata": {},
   "outputs": [],
   "source": [
    "X = df['Distance'].values.reshape(-1, 1)       \n",
    "y = df['fare_amount'].values.reshape(-1, 1)     "
   ]
  },
  {
   "cell_type": "code",
   "execution_count": null,
   "id": "0682f013",
   "metadata": {},
   "outputs": [],
   "source": [
    "from sklearn.preprocessing import StandardScaler\n",
    "\n",
    "std = StandardScaler()\n",
    "y_std = std.fit_transform(y)\n",
    "print(y_std)\n",
    "\n",
    "x_std = std.fit_transform(X)\n",
    "print(x_std)"
   ]
  },
  {
   "cell_type": "code",
   "execution_count": null,
   "id": "78cfada2",
   "metadata": {},
   "outputs": [],
   "source": [
    "from sklearn.model_selection import train_test_split\n",
    "\n",
    "X_train, X_test, y_train, y_test = train_test_split(x_std, y_std, test_size=0.3, random_state=0)"
   ]
  },
  {
   "cell_type": "markdown",
   "id": "891fdcb9",
   "metadata": {},
   "source": [
    "# Linear Regression Model"
   ]
  },
  {
   "cell_type": "code",
   "execution_count": null,
   "id": "28785599",
   "metadata": {},
   "outputs": [],
   "source": [
    "from sklearn.linear_model import LinearRegression\n",
    "\n",
    "l_reg = LinearRegression()\n",
    "l_reg.fit(X_train, y_train)\n",
    "\n",
    "print(\"Training set score: {:.2f}\".format(l_reg.score(X_train, y_train)))\n",
    "print(\"Test set score: {:.7f}\".format(l_reg.score(X_test, y_test)))"
   ]
  },
  {
   "cell_type": "code",
   "execution_count": null,
   "id": "d0446be1",
   "metadata": {},
   "outputs": [],
   "source": [
    "y_pred = l_reg.predict(X_test)"
   ]
  },
  {
   "cell_type": "code",
   "execution_count": null,
   "id": "91eaea2a",
   "metadata": {},
   "outputs": [],
   "source": [
    "from sklearn import metrics\n",
    "\n",
    "print('Mean Absolute Error:', metrics.mean_absolute_error(y_test, y_pred))\n",
    "\n",
    "print('Mean Squared Error:', metrics.mean_squared_error(y_test, y_pred))\n",
    "\n",
    "print('Root Mean Squared Error:', np.sqrt(metrics.mean_squared_error(y_test, y_pred)))"
   ]
  },
  {
   "cell_type": "code",
   "execution_count": null,
   "id": "365f47f6",
   "metadata": {},
   "outputs": [],
   "source": [
    "print(l_reg.intercept_)\n",
    "print(l_reg.coef_)"
   ]
  },
  {
   "cell_type": "markdown",
   "id": "cf6eb134",
   "metadata": {},
   "source": [
    "Plotting the linear regression line against the training and test set side by side."
   ]
  },
  {
   "cell_type": "code",
   "execution_count": null,
   "id": "5b402be3",
   "metadata": {},
   "outputs": [],
   "source": [
    "plt.subplot(2, 2, 1)\n",
    "plt.scatter(X_train, y_train, color = 'red')\n",
    "plt.plot(X_train, l_reg.predict(X_train), color =\"blue\")\n",
    "plt.title(\"Fare vs Distance (Training Set)\")\n",
    "plt.ylabel(\"fare_amount\")\n",
    "plt.xlabel(\"Distance\")\n",
    "\n",
    "plt.subplot(2, 2, 2)\n",
    "plt.scatter(X_test, y_test, color = 'red')\n",
    "plt.plot(X_train, l_reg.predict(X_train), color =\"blue\")\n",
    "plt.ylabel(\"fare_amount\")\n",
    "plt.xlabel(\"Distance\")\n",
    "plt.title(\"Fare vs Distance (Test Set)\")\n",
    "\n",
    "\n",
    "plt.tight_layout()\n",
    "plt.rcParams[\"figure.figsize\"] = (32,22)\n",
    "plt.show()"
   ]
  },
  {
   "cell_type": "markdown",
   "id": "f80c56a5",
   "metadata": {},
   "source": [
    "# Random Forest Model"
   ]
  },
  {
   "cell_type": "code",
   "execution_count": null,
   "id": "1912acb1",
   "metadata": {},
   "outputs": [],
   "source": [
    "from sklearn.ensemble import RandomForestRegressor\n",
    "\n",
    "r_reg = RandomForestRegressor(n_estimators = 50, random_state = 0)\n",
    "\n",
    "r_reg.fit(X_train, y_train)"
   ]
  },
  {
   "cell_type": "code",
   "execution_count": null,
   "id": "fe31fc0d",
   "metadata": {},
   "outputs": [],
   "source": [
    "predictions = r_reg.predict(X_test)\n",
    "\n",
    "print('Mean Absolute Error:', metrics.mean_absolute_error(y_test, predictions))\n",
    "\n",
    "print('Mean Squared Error:', metrics.mean_squared_error(y_test, predictions))\n",
    "\n",
    "print('Root Mean Squared Error:', np.sqrt(metrics.mean_squared_error(y_test, predictions)))"
   ]
  },
  {
   "cell_type": "code",
   "execution_count": null,
   "id": "2860b760",
   "metadata": {},
   "outputs": [],
   "source": []
  }
 ],
 "metadata": {
  "kernelspec": {
   "display_name": "Python 3 (ipykernel)",
   "language": "python",
   "name": "python3"
  },
  "language_info": {
   "codemirror_mode": {
    "name": "ipython",
    "version": 3
   },
   "file_extension": ".py",
   "mimetype": "text/x-python",
   "name": "python",
   "nbconvert_exporter": "python",
   "pygments_lexer": "ipython3",
   "version": "3.9.5"
  },
  "vscode": {
   "interpreter": {
    "hash": "ec8b4be1813595344491450a116faeca27e4307cce07b9e54ff749f3305c9a94"
   }
  }
 },
 "nbformat": 4,
 "nbformat_minor": 5
}
